{
 "cells": [
  {
   "cell_type": "code",
   "execution_count": 1,
   "id": "81375922",
   "metadata": {},
   "outputs": [],
   "source": [
    "import pandas as pd\n",
    "import numpy as np\n",
    "import seaborn as sns\n",
    "import matplotlib.pyplot as plt\n",
    "%matplotlib inline"
   ]
  },
  {
   "cell_type": "code",
   "execution_count": 2,
   "id": "85f0f6a6",
   "metadata": {},
   "outputs": [],
   "source": [
    "df = pd.read_csv('speed-dating.csv')"
   ]
  },
  {
   "cell_type": "code",
   "execution_count": 3,
   "id": "4cf4af02",
   "metadata": {
    "scrolled": true
   },
   "outputs": [
    {
     "data": {
      "text/html": [
       "<div>\n",
       "<style scoped>\n",
       "    .dataframe tbody tr th:only-of-type {\n",
       "        vertical-align: middle;\n",
       "    }\n",
       "\n",
       "    .dataframe tbody tr th {\n",
       "        vertical-align: top;\n",
       "    }\n",
       "\n",
       "    .dataframe thead th {\n",
       "        text-align: right;\n",
       "    }\n",
       "</style>\n",
       "<table border=\"1\" class=\"dataframe\">\n",
       "  <thead>\n",
       "    <tr style=\"text-align: right;\">\n",
       "      <th></th>\n",
       "      <th>has_null</th>\n",
       "      <th>wave</th>\n",
       "      <th>gender</th>\n",
       "      <th>age</th>\n",
       "      <th>age_o</th>\n",
       "      <th>d_age</th>\n",
       "      <th>d_d_age</th>\n",
       "      <th>race</th>\n",
       "      <th>race_o</th>\n",
       "      <th>samerace</th>\n",
       "      <th>...</th>\n",
       "      <th>d_expected_num_interested_in_me</th>\n",
       "      <th>d_expected_num_matches</th>\n",
       "      <th>like</th>\n",
       "      <th>guess_prob_liked</th>\n",
       "      <th>d_like</th>\n",
       "      <th>d_guess_prob_liked</th>\n",
       "      <th>met</th>\n",
       "      <th>decision</th>\n",
       "      <th>decision_o</th>\n",
       "      <th>match</th>\n",
       "    </tr>\n",
       "  </thead>\n",
       "  <tbody>\n",
       "    <tr>\n",
       "      <th>8358</th>\n",
       "      <td>1</td>\n",
       "      <td>21</td>\n",
       "      <td>male</td>\n",
       "      <td>25.0</td>\n",
       "      <td>23.0</td>\n",
       "      <td>2</td>\n",
       "      <td>[2-3]</td>\n",
       "      <td>european/caucasian-american</td>\n",
       "      <td>asian/pacific islander/asian-american</td>\n",
       "      <td>0</td>\n",
       "      <td>...</td>\n",
       "      <td>[0-3]</td>\n",
       "      <td>[3-5]</td>\n",
       "      <td>4.0</td>\n",
       "      <td>6.0</td>\n",
       "      <td>[0-5]</td>\n",
       "      <td>[5-6]</td>\n",
       "      <td>0.0</td>\n",
       "      <td>0</td>\n",
       "      <td>1</td>\n",
       "      <td>0</td>\n",
       "    </tr>\n",
       "    <tr>\n",
       "      <th>8359</th>\n",
       "      <td>1</td>\n",
       "      <td>21</td>\n",
       "      <td>male</td>\n",
       "      <td>25.0</td>\n",
       "      <td>NaN</td>\n",
       "      <td>25</td>\n",
       "      <td>[7-37]</td>\n",
       "      <td>european/caucasian-american</td>\n",
       "      <td>european/caucasian-american</td>\n",
       "      <td>1</td>\n",
       "      <td>...</td>\n",
       "      <td>[0-3]</td>\n",
       "      <td>[3-5]</td>\n",
       "      <td>NaN</td>\n",
       "      <td>NaN</td>\n",
       "      <td>[0-5]</td>\n",
       "      <td>[0-4]</td>\n",
       "      <td>NaN</td>\n",
       "      <td>0</td>\n",
       "      <td>0</td>\n",
       "      <td>0</td>\n",
       "    </tr>\n",
       "    <tr>\n",
       "      <th>8360</th>\n",
       "      <td>1</td>\n",
       "      <td>21</td>\n",
       "      <td>male</td>\n",
       "      <td>25.0</td>\n",
       "      <td>23.0</td>\n",
       "      <td>2</td>\n",
       "      <td>[2-3]</td>\n",
       "      <td>european/caucasian-american</td>\n",
       "      <td>european/caucasian-american</td>\n",
       "      <td>1</td>\n",
       "      <td>...</td>\n",
       "      <td>[0-3]</td>\n",
       "      <td>[3-5]</td>\n",
       "      <td>9.0</td>\n",
       "      <td>6.0</td>\n",
       "      <td>[9-10]</td>\n",
       "      <td>[5-6]</td>\n",
       "      <td>NaN</td>\n",
       "      <td>1</td>\n",
       "      <td>1</td>\n",
       "      <td>1</td>\n",
       "    </tr>\n",
       "    <tr>\n",
       "      <th>8361</th>\n",
       "      <td>1</td>\n",
       "      <td>21</td>\n",
       "      <td>male</td>\n",
       "      <td>25.0</td>\n",
       "      <td>23.0</td>\n",
       "      <td>2</td>\n",
       "      <td>[2-3]</td>\n",
       "      <td>european/caucasian-american</td>\n",
       "      <td>european/caucasian-american</td>\n",
       "      <td>1</td>\n",
       "      <td>...</td>\n",
       "      <td>[0-3]</td>\n",
       "      <td>[3-5]</td>\n",
       "      <td>6.0</td>\n",
       "      <td>9.0</td>\n",
       "      <td>[6-8]</td>\n",
       "      <td>[7-10]</td>\n",
       "      <td>0.0</td>\n",
       "      <td>0</td>\n",
       "      <td>1</td>\n",
       "      <td>0</td>\n",
       "    </tr>\n",
       "    <tr>\n",
       "      <th>8362</th>\n",
       "      <td>1</td>\n",
       "      <td>21</td>\n",
       "      <td>male</td>\n",
       "      <td>25.0</td>\n",
       "      <td>23.0</td>\n",
       "      <td>2</td>\n",
       "      <td>[2-3]</td>\n",
       "      <td>european/caucasian-american</td>\n",
       "      <td>european/caucasian-american</td>\n",
       "      <td>1</td>\n",
       "      <td>...</td>\n",
       "      <td>[0-3]</td>\n",
       "      <td>[3-5]</td>\n",
       "      <td>8.0</td>\n",
       "      <td>7.0</td>\n",
       "      <td>[6-8]</td>\n",
       "      <td>[7-10]</td>\n",
       "      <td>0.0</td>\n",
       "      <td>1</td>\n",
       "      <td>1</td>\n",
       "      <td>1</td>\n",
       "    </tr>\n",
       "    <tr>\n",
       "      <th>8363</th>\n",
       "      <td>1</td>\n",
       "      <td>21</td>\n",
       "      <td>male</td>\n",
       "      <td>25.0</td>\n",
       "      <td>27.0</td>\n",
       "      <td>2</td>\n",
       "      <td>[2-3]</td>\n",
       "      <td>european/caucasian-american</td>\n",
       "      <td>asian/pacific islander/asian-american</td>\n",
       "      <td>0</td>\n",
       "      <td>...</td>\n",
       "      <td>[0-3]</td>\n",
       "      <td>[3-5]</td>\n",
       "      <td>8.0</td>\n",
       "      <td>6.0</td>\n",
       "      <td>[6-8]</td>\n",
       "      <td>[5-6]</td>\n",
       "      <td>0.0</td>\n",
       "      <td>1</td>\n",
       "      <td>1</td>\n",
       "      <td>1</td>\n",
       "    </tr>\n",
       "    <tr>\n",
       "      <th>8364</th>\n",
       "      <td>1</td>\n",
       "      <td>21</td>\n",
       "      <td>male</td>\n",
       "      <td>25.0</td>\n",
       "      <td>30.0</td>\n",
       "      <td>5</td>\n",
       "      <td>[4-6]</td>\n",
       "      <td>european/caucasian-american</td>\n",
       "      <td>latino/hispanic american</td>\n",
       "      <td>0</td>\n",
       "      <td>...</td>\n",
       "      <td>[0-3]</td>\n",
       "      <td>[3-5]</td>\n",
       "      <td>7.0</td>\n",
       "      <td>6.0</td>\n",
       "      <td>[6-8]</td>\n",
       "      <td>[5-6]</td>\n",
       "      <td>0.0</td>\n",
       "      <td>1</td>\n",
       "      <td>0</td>\n",
       "      <td>0</td>\n",
       "    </tr>\n",
       "    <tr>\n",
       "      <th>8365</th>\n",
       "      <td>1</td>\n",
       "      <td>21</td>\n",
       "      <td>male</td>\n",
       "      <td>25.0</td>\n",
       "      <td>23.0</td>\n",
       "      <td>2</td>\n",
       "      <td>[2-3]</td>\n",
       "      <td>european/caucasian-american</td>\n",
       "      <td>european/caucasian-american</td>\n",
       "      <td>1</td>\n",
       "      <td>...</td>\n",
       "      <td>[0-3]</td>\n",
       "      <td>[3-5]</td>\n",
       "      <td>6.0</td>\n",
       "      <td>7.0</td>\n",
       "      <td>[6-8]</td>\n",
       "      <td>[7-10]</td>\n",
       "      <td>0.0</td>\n",
       "      <td>0</td>\n",
       "      <td>1</td>\n",
       "      <td>0</td>\n",
       "    </tr>\n",
       "    <tr>\n",
       "      <th>8366</th>\n",
       "      <td>1</td>\n",
       "      <td>21</td>\n",
       "      <td>male</td>\n",
       "      <td>25.0</td>\n",
       "      <td>26.0</td>\n",
       "      <td>1</td>\n",
       "      <td>[0-1]</td>\n",
       "      <td>european/caucasian-american</td>\n",
       "      <td>european/caucasian-american</td>\n",
       "      <td>1</td>\n",
       "      <td>...</td>\n",
       "      <td>[0-3]</td>\n",
       "      <td>[3-5]</td>\n",
       "      <td>6.0</td>\n",
       "      <td>4.0</td>\n",
       "      <td>[6-8]</td>\n",
       "      <td>[0-4]</td>\n",
       "      <td>0.0</td>\n",
       "      <td>0</td>\n",
       "      <td>0</td>\n",
       "      <td>0</td>\n",
       "    </tr>\n",
       "    <tr>\n",
       "      <th>8367</th>\n",
       "      <td>1</td>\n",
       "      <td>21</td>\n",
       "      <td>male</td>\n",
       "      <td>25.0</td>\n",
       "      <td>28.0</td>\n",
       "      <td>3</td>\n",
       "      <td>[2-3]</td>\n",
       "      <td>european/caucasian-american</td>\n",
       "      <td>other</td>\n",
       "      <td>0</td>\n",
       "      <td>...</td>\n",
       "      <td>[0-3]</td>\n",
       "      <td>[3-5]</td>\n",
       "      <td>5.0</td>\n",
       "      <td>5.0</td>\n",
       "      <td>[0-5]</td>\n",
       "      <td>[5-6]</td>\n",
       "      <td>0.0</td>\n",
       "      <td>0</td>\n",
       "      <td>0</td>\n",
       "      <td>0</td>\n",
       "    </tr>\n",
       "    <tr>\n",
       "      <th>8368</th>\n",
       "      <td>1</td>\n",
       "      <td>21</td>\n",
       "      <td>male</td>\n",
       "      <td>25.0</td>\n",
       "      <td>26.0</td>\n",
       "      <td>1</td>\n",
       "      <td>[0-1]</td>\n",
       "      <td>european/caucasian-american</td>\n",
       "      <td>european/caucasian-american</td>\n",
       "      <td>1</td>\n",
       "      <td>...</td>\n",
       "      <td>[0-3]</td>\n",
       "      <td>[3-5]</td>\n",
       "      <td>4.0</td>\n",
       "      <td>5.0</td>\n",
       "      <td>[0-5]</td>\n",
       "      <td>[5-6]</td>\n",
       "      <td>0.0</td>\n",
       "      <td>0</td>\n",
       "      <td>1</td>\n",
       "      <td>0</td>\n",
       "    </tr>\n",
       "    <tr>\n",
       "      <th>8369</th>\n",
       "      <td>1</td>\n",
       "      <td>21</td>\n",
       "      <td>male</td>\n",
       "      <td>25.0</td>\n",
       "      <td>22.0</td>\n",
       "      <td>3</td>\n",
       "      <td>[2-3]</td>\n",
       "      <td>european/caucasian-american</td>\n",
       "      <td>european/caucasian-american</td>\n",
       "      <td>1</td>\n",
       "      <td>...</td>\n",
       "      <td>[0-3]</td>\n",
       "      <td>[3-5]</td>\n",
       "      <td>6.0</td>\n",
       "      <td>3.0</td>\n",
       "      <td>[6-8]</td>\n",
       "      <td>[0-4]</td>\n",
       "      <td>0.0</td>\n",
       "      <td>0</td>\n",
       "      <td>1</td>\n",
       "      <td>0</td>\n",
       "    </tr>\n",
       "    <tr>\n",
       "      <th>8370</th>\n",
       "      <td>1</td>\n",
       "      <td>21</td>\n",
       "      <td>male</td>\n",
       "      <td>25.0</td>\n",
       "      <td>27.0</td>\n",
       "      <td>2</td>\n",
       "      <td>[2-3]</td>\n",
       "      <td>european/caucasian-american</td>\n",
       "      <td>asian/pacific islander/asian-american</td>\n",
       "      <td>0</td>\n",
       "      <td>...</td>\n",
       "      <td>[0-3]</td>\n",
       "      <td>[3-5]</td>\n",
       "      <td>6.0</td>\n",
       "      <td>6.0</td>\n",
       "      <td>[6-8]</td>\n",
       "      <td>[5-6]</td>\n",
       "      <td>0.0</td>\n",
       "      <td>0</td>\n",
       "      <td>1</td>\n",
       "      <td>0</td>\n",
       "    </tr>\n",
       "    <tr>\n",
       "      <th>8371</th>\n",
       "      <td>1</td>\n",
       "      <td>21</td>\n",
       "      <td>male</td>\n",
       "      <td>25.0</td>\n",
       "      <td>25.0</td>\n",
       "      <td>0</td>\n",
       "      <td>[0-1]</td>\n",
       "      <td>european/caucasian-american</td>\n",
       "      <td>asian/pacific islander/asian-american</td>\n",
       "      <td>0</td>\n",
       "      <td>...</td>\n",
       "      <td>[0-3]</td>\n",
       "      <td>[3-5]</td>\n",
       "      <td>7.0</td>\n",
       "      <td>6.0</td>\n",
       "      <td>[6-8]</td>\n",
       "      <td>[5-6]</td>\n",
       "      <td>0.0</td>\n",
       "      <td>1</td>\n",
       "      <td>1</td>\n",
       "      <td>1</td>\n",
       "    </tr>\n",
       "    <tr>\n",
       "      <th>8372</th>\n",
       "      <td>1</td>\n",
       "      <td>21</td>\n",
       "      <td>male</td>\n",
       "      <td>25.0</td>\n",
       "      <td>24.0</td>\n",
       "      <td>1</td>\n",
       "      <td>[0-1]</td>\n",
       "      <td>european/caucasian-american</td>\n",
       "      <td>european/caucasian-american</td>\n",
       "      <td>1</td>\n",
       "      <td>...</td>\n",
       "      <td>[0-3]</td>\n",
       "      <td>[3-5]</td>\n",
       "      <td>4.0</td>\n",
       "      <td>4.0</td>\n",
       "      <td>[0-5]</td>\n",
       "      <td>[0-4]</td>\n",
       "      <td>0.0</td>\n",
       "      <td>0</td>\n",
       "      <td>0</td>\n",
       "      <td>0</td>\n",
       "    </tr>\n",
       "    <tr>\n",
       "      <th>8373</th>\n",
       "      <td>1</td>\n",
       "      <td>21</td>\n",
       "      <td>male</td>\n",
       "      <td>25.0</td>\n",
       "      <td>26.0</td>\n",
       "      <td>1</td>\n",
       "      <td>[0-1]</td>\n",
       "      <td>european/caucasian-american</td>\n",
       "      <td>latino/hispanic american</td>\n",
       "      <td>0</td>\n",
       "      <td>...</td>\n",
       "      <td>[0-3]</td>\n",
       "      <td>[3-5]</td>\n",
       "      <td>2.0</td>\n",
       "      <td>5.0</td>\n",
       "      <td>[0-5]</td>\n",
       "      <td>[5-6]</td>\n",
       "      <td>0.0</td>\n",
       "      <td>0</td>\n",
       "      <td>1</td>\n",
       "      <td>0</td>\n",
       "    </tr>\n",
       "    <tr>\n",
       "      <th>8374</th>\n",
       "      <td>1</td>\n",
       "      <td>21</td>\n",
       "      <td>male</td>\n",
       "      <td>25.0</td>\n",
       "      <td>24.0</td>\n",
       "      <td>1</td>\n",
       "      <td>[0-1]</td>\n",
       "      <td>european/caucasian-american</td>\n",
       "      <td>other</td>\n",
       "      <td>0</td>\n",
       "      <td>...</td>\n",
       "      <td>[0-3]</td>\n",
       "      <td>[3-5]</td>\n",
       "      <td>4.0</td>\n",
       "      <td>4.0</td>\n",
       "      <td>[0-5]</td>\n",
       "      <td>[0-4]</td>\n",
       "      <td>0.0</td>\n",
       "      <td>0</td>\n",
       "      <td>0</td>\n",
       "      <td>0</td>\n",
       "    </tr>\n",
       "    <tr>\n",
       "      <th>8375</th>\n",
       "      <td>1</td>\n",
       "      <td>21</td>\n",
       "      <td>male</td>\n",
       "      <td>25.0</td>\n",
       "      <td>29.0</td>\n",
       "      <td>4</td>\n",
       "      <td>[4-6]</td>\n",
       "      <td>european/caucasian-american</td>\n",
       "      <td>latino/hispanic american</td>\n",
       "      <td>0</td>\n",
       "      <td>...</td>\n",
       "      <td>[0-3]</td>\n",
       "      <td>[3-5]</td>\n",
       "      <td>6.0</td>\n",
       "      <td>5.0</td>\n",
       "      <td>[6-8]</td>\n",
       "      <td>[5-6]</td>\n",
       "      <td>0.0</td>\n",
       "      <td>0</td>\n",
       "      <td>0</td>\n",
       "      <td>0</td>\n",
       "    </tr>\n",
       "    <tr>\n",
       "      <th>8376</th>\n",
       "      <td>1</td>\n",
       "      <td>21</td>\n",
       "      <td>male</td>\n",
       "      <td>25.0</td>\n",
       "      <td>22.0</td>\n",
       "      <td>3</td>\n",
       "      <td>[2-3]</td>\n",
       "      <td>european/caucasian-american</td>\n",
       "      <td>asian/pacific islander/asian-american</td>\n",
       "      <td>0</td>\n",
       "      <td>...</td>\n",
       "      <td>[0-3]</td>\n",
       "      <td>[3-5]</td>\n",
       "      <td>5.0</td>\n",
       "      <td>5.0</td>\n",
       "      <td>[0-5]</td>\n",
       "      <td>[5-6]</td>\n",
       "      <td>0.0</td>\n",
       "      <td>0</td>\n",
       "      <td>1</td>\n",
       "      <td>0</td>\n",
       "    </tr>\n",
       "    <tr>\n",
       "      <th>8377</th>\n",
       "      <td>1</td>\n",
       "      <td>21</td>\n",
       "      <td>male</td>\n",
       "      <td>25.0</td>\n",
       "      <td>22.0</td>\n",
       "      <td>3</td>\n",
       "      <td>[2-3]</td>\n",
       "      <td>european/caucasian-american</td>\n",
       "      <td>asian/pacific islander/asian-american</td>\n",
       "      <td>0</td>\n",
       "      <td>...</td>\n",
       "      <td>[0-3]</td>\n",
       "      <td>[3-5]</td>\n",
       "      <td>4.0</td>\n",
       "      <td>5.0</td>\n",
       "      <td>[0-5]</td>\n",
       "      <td>[5-6]</td>\n",
       "      <td>0.0</td>\n",
       "      <td>0</td>\n",
       "      <td>1</td>\n",
       "      <td>0</td>\n",
       "    </tr>\n",
       "  </tbody>\n",
       "</table>\n",
       "<p>20 rows × 123 columns</p>\n",
       "</div>"
      ],
      "text/plain": [
       "      has_null  wave gender   age  age_o  d_age d_d_age  \\\n",
       "8358         1    21   male  25.0   23.0      2   [2-3]   \n",
       "8359         1    21   male  25.0    NaN     25  [7-37]   \n",
       "8360         1    21   male  25.0   23.0      2   [2-3]   \n",
       "8361         1    21   male  25.0   23.0      2   [2-3]   \n",
       "8362         1    21   male  25.0   23.0      2   [2-3]   \n",
       "8363         1    21   male  25.0   27.0      2   [2-3]   \n",
       "8364         1    21   male  25.0   30.0      5   [4-6]   \n",
       "8365         1    21   male  25.0   23.0      2   [2-3]   \n",
       "8366         1    21   male  25.0   26.0      1   [0-1]   \n",
       "8367         1    21   male  25.0   28.0      3   [2-3]   \n",
       "8368         1    21   male  25.0   26.0      1   [0-1]   \n",
       "8369         1    21   male  25.0   22.0      3   [2-3]   \n",
       "8370         1    21   male  25.0   27.0      2   [2-3]   \n",
       "8371         1    21   male  25.0   25.0      0   [0-1]   \n",
       "8372         1    21   male  25.0   24.0      1   [0-1]   \n",
       "8373         1    21   male  25.0   26.0      1   [0-1]   \n",
       "8374         1    21   male  25.0   24.0      1   [0-1]   \n",
       "8375         1    21   male  25.0   29.0      4   [4-6]   \n",
       "8376         1    21   male  25.0   22.0      3   [2-3]   \n",
       "8377         1    21   male  25.0   22.0      3   [2-3]   \n",
       "\n",
       "                             race                                 race_o  \\\n",
       "8358  european/caucasian-american  asian/pacific islander/asian-american   \n",
       "8359  european/caucasian-american            european/caucasian-american   \n",
       "8360  european/caucasian-american            european/caucasian-american   \n",
       "8361  european/caucasian-american            european/caucasian-american   \n",
       "8362  european/caucasian-american            european/caucasian-american   \n",
       "8363  european/caucasian-american  asian/pacific islander/asian-american   \n",
       "8364  european/caucasian-american               latino/hispanic american   \n",
       "8365  european/caucasian-american            european/caucasian-american   \n",
       "8366  european/caucasian-american            european/caucasian-american   \n",
       "8367  european/caucasian-american                                  other   \n",
       "8368  european/caucasian-american            european/caucasian-american   \n",
       "8369  european/caucasian-american            european/caucasian-american   \n",
       "8370  european/caucasian-american  asian/pacific islander/asian-american   \n",
       "8371  european/caucasian-american  asian/pacific islander/asian-american   \n",
       "8372  european/caucasian-american            european/caucasian-american   \n",
       "8373  european/caucasian-american               latino/hispanic american   \n",
       "8374  european/caucasian-american                                  other   \n",
       "8375  european/caucasian-american               latino/hispanic american   \n",
       "8376  european/caucasian-american  asian/pacific islander/asian-american   \n",
       "8377  european/caucasian-american  asian/pacific islander/asian-american   \n",
       "\n",
       "      samerace  ...  d_expected_num_interested_in_me  d_expected_num_matches  \\\n",
       "8358         0  ...                            [0-3]                   [3-5]   \n",
       "8359         1  ...                            [0-3]                   [3-5]   \n",
       "8360         1  ...                            [0-3]                   [3-5]   \n",
       "8361         1  ...                            [0-3]                   [3-5]   \n",
       "8362         1  ...                            [0-3]                   [3-5]   \n",
       "8363         0  ...                            [0-3]                   [3-5]   \n",
       "8364         0  ...                            [0-3]                   [3-5]   \n",
       "8365         1  ...                            [0-3]                   [3-5]   \n",
       "8366         1  ...                            [0-3]                   [3-5]   \n",
       "8367         0  ...                            [0-3]                   [3-5]   \n",
       "8368         1  ...                            [0-3]                   [3-5]   \n",
       "8369         1  ...                            [0-3]                   [3-5]   \n",
       "8370         0  ...                            [0-3]                   [3-5]   \n",
       "8371         0  ...                            [0-3]                   [3-5]   \n",
       "8372         1  ...                            [0-3]                   [3-5]   \n",
       "8373         0  ...                            [0-3]                   [3-5]   \n",
       "8374         0  ...                            [0-3]                   [3-5]   \n",
       "8375         0  ...                            [0-3]                   [3-5]   \n",
       "8376         0  ...                            [0-3]                   [3-5]   \n",
       "8377         0  ...                            [0-3]                   [3-5]   \n",
       "\n",
       "     like guess_prob_liked  d_like  d_guess_prob_liked  met  decision  \\\n",
       "8358  4.0              6.0   [0-5]               [5-6]  0.0         0   \n",
       "8359  NaN              NaN   [0-5]               [0-4]  NaN         0   \n",
       "8360  9.0              6.0  [9-10]               [5-6]  NaN         1   \n",
       "8361  6.0              9.0   [6-8]              [7-10]  0.0         0   \n",
       "8362  8.0              7.0   [6-8]              [7-10]  0.0         1   \n",
       "8363  8.0              6.0   [6-8]               [5-6]  0.0         1   \n",
       "8364  7.0              6.0   [6-8]               [5-6]  0.0         1   \n",
       "8365  6.0              7.0   [6-8]              [7-10]  0.0         0   \n",
       "8366  6.0              4.0   [6-8]               [0-4]  0.0         0   \n",
       "8367  5.0              5.0   [0-5]               [5-6]  0.0         0   \n",
       "8368  4.0              5.0   [0-5]               [5-6]  0.0         0   \n",
       "8369  6.0              3.0   [6-8]               [0-4]  0.0         0   \n",
       "8370  6.0              6.0   [6-8]               [5-6]  0.0         0   \n",
       "8371  7.0              6.0   [6-8]               [5-6]  0.0         1   \n",
       "8372  4.0              4.0   [0-5]               [0-4]  0.0         0   \n",
       "8373  2.0              5.0   [0-5]               [5-6]  0.0         0   \n",
       "8374  4.0              4.0   [0-5]               [0-4]  0.0         0   \n",
       "8375  6.0              5.0   [6-8]               [5-6]  0.0         0   \n",
       "8376  5.0              5.0   [0-5]               [5-6]  0.0         0   \n",
       "8377  4.0              5.0   [0-5]               [5-6]  0.0         0   \n",
       "\n",
       "      decision_o  match  \n",
       "8358           1      0  \n",
       "8359           0      0  \n",
       "8360           1      1  \n",
       "8361           1      0  \n",
       "8362           1      1  \n",
       "8363           1      1  \n",
       "8364           0      0  \n",
       "8365           1      0  \n",
       "8366           0      0  \n",
       "8367           0      0  \n",
       "8368           1      0  \n",
       "8369           1      0  \n",
       "8370           1      0  \n",
       "8371           1      1  \n",
       "8372           0      0  \n",
       "8373           1      0  \n",
       "8374           0      0  \n",
       "8375           0      0  \n",
       "8376           1      0  \n",
       "8377           1      0  \n",
       "\n",
       "[20 rows x 123 columns]"
      ]
     },
     "execution_count": 3,
     "metadata": {},
     "output_type": "execute_result"
    }
   ],
   "source": [
    "df.tail(20)"
   ]
  },
  {
   "cell_type": "code",
   "execution_count": 4,
   "id": "9324b649",
   "metadata": {},
   "outputs": [
    {
     "data": {
      "text/plain": [
       "['has_null',\n",
       " 'wave',\n",
       " 'gender',\n",
       " 'age',\n",
       " 'age_o',\n",
       " 'd_age',\n",
       " 'd_d_age',\n",
       " 'race',\n",
       " 'race_o',\n",
       " 'samerace',\n",
       " 'importance_same_race',\n",
       " 'importance_same_religion',\n",
       " 'd_importance_same_race',\n",
       " 'd_importance_same_religion',\n",
       " 'field',\n",
       " 'pref_o_attractive',\n",
       " 'pref_o_sincere',\n",
       " 'pref_o_intelligence',\n",
       " 'pref_o_funny',\n",
       " 'pref_o_ambitious',\n",
       " 'pref_o_shared_interests',\n",
       " 'd_pref_o_attractive',\n",
       " 'd_pref_o_sincere',\n",
       " 'd_pref_o_intelligence',\n",
       " 'd_pref_o_funny',\n",
       " 'd_pref_o_ambitious',\n",
       " 'd_pref_o_shared_interests',\n",
       " 'attractive_o',\n",
       " 'sinsere_o',\n",
       " 'intelligence_o',\n",
       " 'funny_o',\n",
       " 'ambitous_o',\n",
       " 'shared_interests_o',\n",
       " 'd_attractive_o',\n",
       " 'd_sinsere_o',\n",
       " 'd_intelligence_o',\n",
       " 'd_funny_o',\n",
       " 'd_ambitous_o',\n",
       " 'd_shared_interests_o',\n",
       " 'attractive_important',\n",
       " 'sincere_important',\n",
       " 'intellicence_important',\n",
       " 'funny_important',\n",
       " 'ambtition_important',\n",
       " 'shared_interests_important',\n",
       " 'd_attractive_important',\n",
       " 'd_sincere_important',\n",
       " 'd_intellicence_important',\n",
       " 'd_funny_important',\n",
       " 'd_ambtition_important',\n",
       " 'd_shared_interests_important',\n",
       " 'attractive',\n",
       " 'sincere',\n",
       " 'intelligence',\n",
       " 'funny',\n",
       " 'ambition',\n",
       " 'd_attractive',\n",
       " 'd_sincere',\n",
       " 'd_intelligence',\n",
       " 'd_funny',\n",
       " 'd_ambition',\n",
       " 'attractive_partner',\n",
       " 'sincere_partner',\n",
       " 'intelligence_partner',\n",
       " 'funny_partner',\n",
       " 'ambition_partner',\n",
       " 'shared_interests_partner',\n",
       " 'd_attractive_partner',\n",
       " 'd_sincere_partner',\n",
       " 'd_intelligence_partner',\n",
       " 'd_funny_partner',\n",
       " 'd_ambition_partner',\n",
       " 'd_shared_interests_partner',\n",
       " 'sports',\n",
       " 'tvsports',\n",
       " 'exercise',\n",
       " 'dining',\n",
       " 'museums',\n",
       " 'art',\n",
       " 'hiking',\n",
       " 'gaming',\n",
       " 'clubbing',\n",
       " 'reading',\n",
       " 'tv',\n",
       " 'theater',\n",
       " 'movies',\n",
       " 'concerts',\n",
       " 'music',\n",
       " 'shopping',\n",
       " 'yoga',\n",
       " 'd_sports',\n",
       " 'd_tvsports',\n",
       " 'd_exercise',\n",
       " 'd_dining',\n",
       " 'd_museums',\n",
       " 'd_art',\n",
       " 'd_hiking',\n",
       " 'd_gaming',\n",
       " 'd_clubbing',\n",
       " 'd_reading',\n",
       " 'd_tv',\n",
       " 'd_theater',\n",
       " 'd_movies',\n",
       " 'd_concerts',\n",
       " 'd_music',\n",
       " 'd_shopping',\n",
       " 'd_yoga',\n",
       " 'interests_correlate',\n",
       " 'd_interests_correlate',\n",
       " 'expected_happy_with_sd_people',\n",
       " 'expected_num_interested_in_me',\n",
       " 'expected_num_matches',\n",
       " 'd_expected_happy_with_sd_people',\n",
       " 'd_expected_num_interested_in_me',\n",
       " 'd_expected_num_matches',\n",
       " 'like',\n",
       " 'guess_prob_liked',\n",
       " 'd_like',\n",
       " 'd_guess_prob_liked',\n",
       " 'met',\n",
       " 'decision',\n",
       " 'decision_o',\n",
       " 'match']"
      ]
     },
     "execution_count": 4,
     "metadata": {},
     "output_type": "execute_result"
    }
   ],
   "source": [
    "df.columns.tolist()"
   ]
  },
  {
   "cell_type": "markdown",
   "id": "2291a73e",
   "metadata": {},
   "source": [
    "There are a total of 123 columns. The last three columns tell us whether the date was successful or not, with the \"match\" column ultimately being the final decision. \n",
    "\n",
    "For curiousity, how many successful dates were there from this study? How many participants were involved in this study? This will be very difficult to answer, as I wish there was a unique identifier given for each participant in the study. The best way we can create a column called \"unique identifer\" that would combine the data in the columns of \"wave\" and \"age\" and \"gender\" into one. To do that, we can use an aggregate function to combine whats in each of those columns into a new column. We need to make sure they have the same data type though."
   ]
  },
  {
   "cell_type": "code",
   "execution_count": 5,
   "id": "7201192d",
   "metadata": {},
   "outputs": [
    {
     "data": {
      "text/plain": [
       "dtype('int64')"
      ]
     },
     "execution_count": 5,
     "metadata": {},
     "output_type": "execute_result"
    }
   ],
   "source": [
    "df.dtypes['wave']"
   ]
  },
  {
   "cell_type": "code",
   "execution_count": 6,
   "id": "33e4d80a",
   "metadata": {},
   "outputs": [
    {
     "data": {
      "text/plain": [
       "dtype('float64')"
      ]
     },
     "execution_count": 6,
     "metadata": {},
     "output_type": "execute_result"
    }
   ],
   "source": [
    "df.dtypes['age']"
   ]
  },
  {
   "cell_type": "code",
   "execution_count": 7,
   "id": "f8d8725e",
   "metadata": {},
   "outputs": [
    {
     "data": {
      "text/plain": [
       "dtype('O')"
      ]
     },
     "execution_count": 7,
     "metadata": {},
     "output_type": "execute_result"
    }
   ],
   "source": [
    "df.dtypes['gender']"
   ]
  },
  {
   "cell_type": "code",
   "execution_count": 9,
   "id": "c9bafc09",
   "metadata": {},
   "outputs": [],
   "source": [
    "df['wave'] = df['wave'].astype('str') \n",
    "df['age'] = df['age'].astype('str')\n",
    "df['unique identifier'] = df[['wave', 'age', 'gender']].agg(' '.join, axis=1)"
   ]
  },
  {
   "cell_type": "code",
   "execution_count": 10,
   "id": "dd2e33b5",
   "metadata": {},
   "outputs": [
    {
     "data": {
      "text/html": [
       "<div>\n",
       "<style scoped>\n",
       "    .dataframe tbody tr th:only-of-type {\n",
       "        vertical-align: middle;\n",
       "    }\n",
       "\n",
       "    .dataframe tbody tr th {\n",
       "        vertical-align: top;\n",
       "    }\n",
       "\n",
       "    .dataframe thead th {\n",
       "        text-align: right;\n",
       "    }\n",
       "</style>\n",
       "<table border=\"1\" class=\"dataframe\">\n",
       "  <thead>\n",
       "    <tr style=\"text-align: right;\">\n",
       "      <th></th>\n",
       "      <th>has_null</th>\n",
       "      <th>wave</th>\n",
       "      <th>gender</th>\n",
       "      <th>age</th>\n",
       "      <th>age_o</th>\n",
       "      <th>d_age</th>\n",
       "      <th>d_d_age</th>\n",
       "      <th>race</th>\n",
       "      <th>race_o</th>\n",
       "      <th>samerace</th>\n",
       "      <th>...</th>\n",
       "      <th>d_expected_num_matches</th>\n",
       "      <th>like</th>\n",
       "      <th>guess_prob_liked</th>\n",
       "      <th>d_like</th>\n",
       "      <th>d_guess_prob_liked</th>\n",
       "      <th>met</th>\n",
       "      <th>decision</th>\n",
       "      <th>decision_o</th>\n",
       "      <th>match</th>\n",
       "      <th>unique identifier</th>\n",
       "    </tr>\n",
       "  </thead>\n",
       "  <tbody>\n",
       "    <tr>\n",
       "      <th>0</th>\n",
       "      <td>0</td>\n",
       "      <td>1</td>\n",
       "      <td>female</td>\n",
       "      <td>21.0</td>\n",
       "      <td>27.0</td>\n",
       "      <td>6</td>\n",
       "      <td>[4-6]</td>\n",
       "      <td>asian/pacific islander/asian-american</td>\n",
       "      <td>european/caucasian-american</td>\n",
       "      <td>0</td>\n",
       "      <td>...</td>\n",
       "      <td>[3-5]</td>\n",
       "      <td>7.0</td>\n",
       "      <td>6.0</td>\n",
       "      <td>[6-8]</td>\n",
       "      <td>[5-6]</td>\n",
       "      <td>0.0</td>\n",
       "      <td>1</td>\n",
       "      <td>0</td>\n",
       "      <td>0</td>\n",
       "      <td>1 21.0 female</td>\n",
       "    </tr>\n",
       "    <tr>\n",
       "      <th>1</th>\n",
       "      <td>0</td>\n",
       "      <td>1</td>\n",
       "      <td>female</td>\n",
       "      <td>21.0</td>\n",
       "      <td>22.0</td>\n",
       "      <td>1</td>\n",
       "      <td>[0-1]</td>\n",
       "      <td>asian/pacific islander/asian-american</td>\n",
       "      <td>european/caucasian-american</td>\n",
       "      <td>0</td>\n",
       "      <td>...</td>\n",
       "      <td>[3-5]</td>\n",
       "      <td>7.0</td>\n",
       "      <td>5.0</td>\n",
       "      <td>[6-8]</td>\n",
       "      <td>[5-6]</td>\n",
       "      <td>1.0</td>\n",
       "      <td>1</td>\n",
       "      <td>0</td>\n",
       "      <td>0</td>\n",
       "      <td>1 21.0 female</td>\n",
       "    </tr>\n",
       "    <tr>\n",
       "      <th>2</th>\n",
       "      <td>1</td>\n",
       "      <td>1</td>\n",
       "      <td>female</td>\n",
       "      <td>21.0</td>\n",
       "      <td>22.0</td>\n",
       "      <td>1</td>\n",
       "      <td>[0-1]</td>\n",
       "      <td>asian/pacific islander/asian-american</td>\n",
       "      <td>asian/pacific islander/asian-american</td>\n",
       "      <td>1</td>\n",
       "      <td>...</td>\n",
       "      <td>[3-5]</td>\n",
       "      <td>7.0</td>\n",
       "      <td>NaN</td>\n",
       "      <td>[6-8]</td>\n",
       "      <td>[0-4]</td>\n",
       "      <td>1.0</td>\n",
       "      <td>1</td>\n",
       "      <td>1</td>\n",
       "      <td>1</td>\n",
       "      <td>1 21.0 female</td>\n",
       "    </tr>\n",
       "    <tr>\n",
       "      <th>3</th>\n",
       "      <td>0</td>\n",
       "      <td>1</td>\n",
       "      <td>female</td>\n",
       "      <td>21.0</td>\n",
       "      <td>23.0</td>\n",
       "      <td>2</td>\n",
       "      <td>[2-3]</td>\n",
       "      <td>asian/pacific islander/asian-american</td>\n",
       "      <td>european/caucasian-american</td>\n",
       "      <td>0</td>\n",
       "      <td>...</td>\n",
       "      <td>[3-5]</td>\n",
       "      <td>7.0</td>\n",
       "      <td>6.0</td>\n",
       "      <td>[6-8]</td>\n",
       "      <td>[5-6]</td>\n",
       "      <td>0.0</td>\n",
       "      <td>1</td>\n",
       "      <td>1</td>\n",
       "      <td>1</td>\n",
       "      <td>1 21.0 female</td>\n",
       "    </tr>\n",
       "    <tr>\n",
       "      <th>4</th>\n",
       "      <td>0</td>\n",
       "      <td>1</td>\n",
       "      <td>female</td>\n",
       "      <td>21.0</td>\n",
       "      <td>24.0</td>\n",
       "      <td>3</td>\n",
       "      <td>[2-3]</td>\n",
       "      <td>asian/pacific islander/asian-american</td>\n",
       "      <td>latino/hispanic american</td>\n",
       "      <td>0</td>\n",
       "      <td>...</td>\n",
       "      <td>[3-5]</td>\n",
       "      <td>6.0</td>\n",
       "      <td>6.0</td>\n",
       "      <td>[6-8]</td>\n",
       "      <td>[5-6]</td>\n",
       "      <td>0.0</td>\n",
       "      <td>1</td>\n",
       "      <td>1</td>\n",
       "      <td>1</td>\n",
       "      <td>1 21.0 female</td>\n",
       "    </tr>\n",
       "  </tbody>\n",
       "</table>\n",
       "<p>5 rows × 124 columns</p>\n",
       "</div>"
      ],
      "text/plain": [
       "   has_null wave  gender   age  age_o  d_age d_d_age  \\\n",
       "0         0    1  female  21.0   27.0      6   [4-6]   \n",
       "1         0    1  female  21.0   22.0      1   [0-1]   \n",
       "2         1    1  female  21.0   22.0      1   [0-1]   \n",
       "3         0    1  female  21.0   23.0      2   [2-3]   \n",
       "4         0    1  female  21.0   24.0      3   [2-3]   \n",
       "\n",
       "                                    race  \\\n",
       "0  asian/pacific islander/asian-american   \n",
       "1  asian/pacific islander/asian-american   \n",
       "2  asian/pacific islander/asian-american   \n",
       "3  asian/pacific islander/asian-american   \n",
       "4  asian/pacific islander/asian-american   \n",
       "\n",
       "                                  race_o  samerace  ...  \\\n",
       "0            european/caucasian-american         0  ...   \n",
       "1            european/caucasian-american         0  ...   \n",
       "2  asian/pacific islander/asian-american         1  ...   \n",
       "3            european/caucasian-american         0  ...   \n",
       "4               latino/hispanic american         0  ...   \n",
       "\n",
       "   d_expected_num_matches  like guess_prob_liked d_like d_guess_prob_liked  \\\n",
       "0                   [3-5]   7.0              6.0  [6-8]              [5-6]   \n",
       "1                   [3-5]   7.0              5.0  [6-8]              [5-6]   \n",
       "2                   [3-5]   7.0              NaN  [6-8]              [0-4]   \n",
       "3                   [3-5]   7.0              6.0  [6-8]              [5-6]   \n",
       "4                   [3-5]   6.0              6.0  [6-8]              [5-6]   \n",
       "\n",
       "   met  decision  decision_o  match  unique identifier  \n",
       "0  0.0         1           0      0      1 21.0 female  \n",
       "1  1.0         1           0      0      1 21.0 female  \n",
       "2  1.0         1           1      1      1 21.0 female  \n",
       "3  0.0         1           1      1      1 21.0 female  \n",
       "4  0.0         1           1      1      1 21.0 female  \n",
       "\n",
       "[5 rows x 124 columns]"
      ]
     },
     "execution_count": 10,
     "metadata": {},
     "output_type": "execute_result"
    }
   ],
   "source": [
    "df.head()"
   ]
  },
  {
   "cell_type": "markdown",
   "id": "7cce6858",
   "metadata": {},
   "source": [
    "Again there is no unique identifier for the people in each row, other than their age. In this case, we are going to just have to assume that in each wave in the age column, the rows with the same age under the \"age\" column are considered to be the same person. If we then want to know the number of particpants using this method, what we can do is to show all unique values in the \"unique identifier\" column that we just created. Let's do this by scanning through each wave in the dataframe and removing all duplicates in the unique identifier column."
   ]
  },
  {
   "cell_type": "code",
   "execution_count": 12,
   "id": "a4519fc5",
   "metadata": {},
   "outputs": [
    {
     "data": {
      "text/plain": [
       "array(['1', '2', '3', '4', '5', '6', '7', '8', '9', '10', '11', '12',\n",
       "       '13', '14', '15', '16', '17', '18', '19', '20', '21'], dtype=object)"
      ]
     },
     "execution_count": 12,
     "metadata": {},
     "output_type": "execute_result"
    }
   ],
   "source": [
    "df['wave'].unique()"
   ]
  },
  {
   "cell_type": "code",
   "execution_count": 13,
   "id": "db360a00",
   "metadata": {},
   "outputs": [],
   "source": [
    "for i in df['wave'].unique():\n",
    "    df[df['wave']==i] = df[df['wave']==i].drop_duplicates('unique identifier')"
   ]
  },
  {
   "cell_type": "code",
   "execution_count": 14,
   "id": "a30f6576",
   "metadata": {},
   "outputs": [
    {
     "data": {
      "text/plain": [
       "18     8\n",
       "5      9\n",
       "16     9\n",
       "6     10\n",
       "20    10\n",
       "Name: wave, dtype: int64"
      ]
     },
     "execution_count": 14,
     "metadata": {},
     "output_type": "execute_result"
    }
   ],
   "source": [
    "df['wave'].value_counts(ascending=True).head(5)"
   ]
  },
  {
   "cell_type": "code",
   "execution_count": 15,
   "id": "5f71762c",
   "metadata": {},
   "outputs": [
    {
     "data": {
      "text/plain": [
       "1 21.0 female    1\n",
       "13 nan male      1\n",
       "14 24.0 male     1\n",
       "14 27.0 male     1\n",
       "14 23.0 male     1\n",
       "                ..\n",
       "8 22.0 female    1\n",
       "8 28.0 female    1\n",
       "8 23.0 female    1\n",
       "8 29.0 female    1\n",
       "21 27.0 male     1\n",
       "Name: unique identifier, Length: 324, dtype: int64"
      ]
     },
     "execution_count": 15,
     "metadata": {},
     "output_type": "execute_result"
    }
   ],
   "source": [
    "df['unique identifier'].value_counts()"
   ]
  },
  {
   "cell_type": "markdown",
   "id": "8e5fc012",
   "metadata": {},
   "source": [
    "There are a total of 324 users who participated in this survey. Again, this is only under the assumption we made. Let's learn more about the participants; what is the gender ratio of those who participated?"
   ]
  },
  {
   "cell_type": "code",
   "execution_count": 16,
   "id": "aae75c81",
   "metadata": {},
   "outputs": [
    {
     "data": {
      "text/plain": [
       "male      163\n",
       "female    161\n",
       "Name: gender, dtype: int64"
      ]
     },
     "execution_count": 16,
     "metadata": {},
     "output_type": "execute_result"
    }
   ],
   "source": [
    "df['gender'].value_counts()"
   ]
  },
  {
   "cell_type": "markdown",
   "id": "9c310c47",
   "metadata": {},
   "source": [
    "Let's learn a little bit more about the partipants in this study and study the columns of each. Before moving on, we have a decision to make here. We can either continue with the assumption and and stick with a dataframe containing only 324 rows, or we can stick with the normal dataframe. I am more focused on studying the percentages and ratios of attributes rather than numbers, and sticking with a normal dataframe will make things easier, so lets continue with using the normal dataframe. The only downside of this is that there will be user duplicates (since the dataframe keeps track of the dates that occured and not the number of particpants that participated), but I am also assuming that each particpant went on the same number of dates, therefore avoiding any bias at the end."
   ]
  },
  {
   "cell_type": "code",
   "execution_count": 21,
   "id": "4d124946",
   "metadata": {},
   "outputs": [
    {
     "data": {
      "image/png": "[encoded data removed]",
      "text/plain": [
       "<Figure size 864x360 with 1 Axes>"
      ]
     },
     "metadata": {},
     "output_type": "display_data"
    }
   ],
   "source": [
    "plt.figure(figsize = (12,5))\n",
    "sns.countplot(x='age', hue = 'gender', data = df, order=np.unique(df['age'].dropna()))\n",
    "plt.title('age of participants in the study')\n",
    "plt.gca().yaxis.grid(True)\n",
    "plt.legend()\n",
    "plt.ylabel('count')\n",
    "sns.set_style(\"darkgrid\")"
   ]
  },
  {
   "cell_type": "code",
   "execution_count": 13,
   "id": "4155c7d9",
   "metadata": {},
   "outputs": [],
   "source": [
    "df['age'] = df['age'].astype('float64')"
   ]
  },
  {
   "cell_type": "code",
   "execution_count": 14,
   "id": "bea3556e",
   "metadata": {},
   "outputs": [
    {
     "data": {
      "text/plain": [
       "[Text(0, 0, '26.1059'), Text(0, 0, '26.6093')]"
      ]
     },
     "execution_count": 14,
     "metadata": {},
     "output_type": "execute_result"
    },
    {
     "data": {
      "image/png": "[encoded data removed]",
      "text/plain": [
       "<Figure size 288x288 with 1 Axes>"
      ]
     },
     "metadata": {},
     "output_type": "display_data"
    }
   ],
   "source": [
    "plt.figure(figsize = (4,4))\n",
    "plt.title('average age of study participant by gender')\n",
    "ax = sns.barplot(x='gender',y='age',data=df, ci=None)\n",
    "ax.bar_label(ax.containers[0])"
   ]
  },
  {
   "cell_type": "code",
   "execution_count": 15,
   "id": "0a6b724a",
   "metadata": {},
   "outputs": [
    {
     "data": {
      "text/plain": [
       "Text(0.5, 1.0, 'distrbution of study participants by age')"
      ]
     },
     "execution_count": 15,
     "metadata": {},
     "output_type": "execute_result"
    },
    {
     "data": {
      "image/png": "[encoded data removed]",
      "text/plain": [
       "<Figure size 432x432 with 1 Axes>"
      ]
     },
     "metadata": {},
     "output_type": "display_data"
    }
   ],
   "source": [
    "df['age'].value_counts(normalize=True).plot.pie(figsize = (6,6))\n",
    "plt.title('distrbution of study participants by age')"
   ]
  },
  {
   "cell_type": "markdown",
   "id": "5495a8bd",
   "metadata": {},
   "source": [
    "Almost 75% of all the participants in the study are in their 20s. We also see from the barplot that the average age of a female participant is higher than that of a male, although in the age 20-30 range in the age histogram, the age is skewed more towards the male. This means that we expect to see more successful matches where the male is older than the female than vice versa. We'll see if this is true later in this study. What is the race distribution of all the participants in the study?"
   ]
  },
  {
   "cell_type": "code",
   "execution_count": 22,
   "id": "e6ea831b",
   "metadata": {},
   "outputs": [
    {
     "data": {
      "text/plain": [
       "Text(0.5, 1.0, 'distrbution of study participants by race')"
      ]
     },
     "execution_count": 22,
     "metadata": {},
     "output_type": "execute_result"
    },
    {
     "data": {
      "image/png": "[encoded data removed]",
      "text/plain": [
       "<Figure size 432x432 with 1 Axes>"
      ]
     },
     "metadata": {},
     "output_type": "display_data"
    }
   ],
   "source": [
    "df['race'].value_counts(normalize=True).plot.pie(figsize = (6,6))\n",
    "plt.title('distrbution of study participants by race')"
   ]
  },
  {
   "cell_type": "markdown",
   "id": "682b7653",
   "metadata": {},
   "source": [
    "More than 50% of all participants are caucasian-American, while about 25% are Asian, and the rest are other races. "
   ]
  },
  {
   "cell_type": "code",
   "execution_count": 23,
   "id": "690c1186",
   "metadata": {},
   "outputs": [
    {
     "data": {
      "image/png": "[encoded data removed]",
      "text/plain": [
       "<Figure size 1080x360 with 1 Axes>"
      ]
     },
     "metadata": {},
     "output_type": "display_data"
    }
   ],
   "source": [
    "plt.figure(figsize = (15,5))\n",
    "sns.countplot(x='age', hue = 'race', data = df, order=np.unique(df['age'].dropna()))\n",
    "plt.title('age of participants in the study')\n",
    "plt.legend(loc = 'upper right')\n",
    "plt.ylabel('count')\n",
    "sns.set_style(\"darkgrid\")"
   ]
  },
  {
   "cell_type": "markdown",
   "id": "c373ec36",
   "metadata": {},
   "source": [
    "While bringing up race, a question comes to mind; how does race influence a date? Do 2 people with the same race make it more likely for the date to be successful? If so, by how much, compared to 2 people of a different race? We modified the original dataframe, so let's bring it back to how it was in the beginning, sticking to the assumption we made earlier. "
   ]
  },
  {
   "cell_type": "code",
   "execution_count": 24,
   "id": "443ff707",
   "metadata": {},
   "outputs": [],
   "source": [
    "df = pd.read_csv('speed-dating.csv')"
   ]
  },
  {
   "cell_type": "markdown",
   "id": "73ea7751",
   "metadata": {},
   "source": [
    "To answer this question, let's focus on just two columns; \"same race\" and \"match\". Compare the rows where the race is the same vs. when it is not and see if there is a successful match or not for each condition. We can create a barplot out of this, but to do that, we must first filter out dates with same race from dates with different races, and from there convert the ratio of successful matches to non-successful matches into percentages, and store those percentages in table form."
   ]
  },
  {
   "cell_type": "code",
   "execution_count": 38,
   "id": "0ec8f545",
   "metadata": {},
   "outputs": [
    {
     "data": {
      "text/html": [
       "<div>\n",
       "<style scoped>\n",
       "    .dataframe tbody tr th:only-of-type {\n",
       "        vertical-align: middle;\n",
       "    }\n",
       "\n",
       "    .dataframe tbody tr th {\n",
       "        vertical-align: top;\n",
       "    }\n",
       "\n",
       "    .dataframe thead th {\n",
       "        text-align: right;\n",
       "    }\n",
       "</style>\n",
       "<table border=\"1\" class=\"dataframe\">\n",
       "  <thead>\n",
       "    <tr style=\"text-align: right;\">\n",
       "      <th></th>\n",
       "      <th>index</th>\n",
       "      <th>percent</th>\n",
       "    </tr>\n",
       "  </thead>\n",
       "  <tbody>\n",
       "    <tr>\n",
       "      <th>0</th>\n",
       "      <td>0</td>\n",
       "      <td>83.919399</td>\n",
       "    </tr>\n",
       "    <tr>\n",
       "      <th>1</th>\n",
       "      <td>1</td>\n",
       "      <td>16.080601</td>\n",
       "    </tr>\n",
       "  </tbody>\n",
       "</table>\n",
       "</div>"
      ],
      "text/plain": [
       "   index    percent\n",
       "0      0  83.919399\n",
       "1      1  16.080601"
      ]
     },
     "execution_count": 38,
     "metadata": {},
     "output_type": "execute_result"
    }
   ],
   "source": [
    "df[df['samerace']==0]['match'].value_counts(normalize=True).mul(100).rename('percent').reset_index()"
   ]
  },
  {
   "cell_type": "markdown",
   "id": "e54c9070",
   "metadata": {},
   "source": [
    "For curiousity, Above is the result of NOT adding the groupby('samerace')"
   ]
  },
  {
   "cell_type": "code",
   "execution_count": 25,
   "id": "ac4b1331",
   "metadata": {},
   "outputs": [
    {
     "data": {
      "text/html": [
       "<div>\n",
       "<style scoped>\n",
       "    .dataframe tbody tr th:only-of-type {\n",
       "        vertical-align: middle;\n",
       "    }\n",
       "\n",
       "    .dataframe tbody tr th {\n",
       "        vertical-align: top;\n",
       "    }\n",
       "\n",
       "    .dataframe thead th {\n",
       "        text-align: right;\n",
       "    }\n",
       "</style>\n",
       "<table border=\"1\" class=\"dataframe\">\n",
       "  <thead>\n",
       "    <tr style=\"text-align: right;\">\n",
       "      <th></th>\n",
       "      <th>samerace</th>\n",
       "      <th>match</th>\n",
       "      <th>percent</th>\n",
       "    </tr>\n",
       "  </thead>\n",
       "  <tbody>\n",
       "    <tr>\n",
       "      <th>0</th>\n",
       "      <td>0</td>\n",
       "      <td>0</td>\n",
       "      <td>83.919399</td>\n",
       "    </tr>\n",
       "    <tr>\n",
       "      <th>1</th>\n",
       "      <td>0</td>\n",
       "      <td>1</td>\n",
       "      <td>16.080601</td>\n",
       "    </tr>\n",
       "  </tbody>\n",
       "</table>\n",
       "</div>"
      ],
      "text/plain": [
       "   samerace  match    percent\n",
       "0         0      0  83.919399\n",
       "1         0      1  16.080601"
      ]
     },
     "execution_count": 25,
     "metadata": {},
     "output_type": "execute_result"
    }
   ],
   "source": [
    "df[df['samerace']==0].groupby('samerace')['match'].value_counts(normalize=True).mul(100).rename('percent').reset_index()"
   ]
  },
  {
   "cell_type": "markdown",
   "id": "d3417332",
   "metadata": {},
   "source": [
    "Above is the result of adding the groupby('samerace'). Notice the difference between the 2 output tables."
   ]
  },
  {
   "cell_type": "code",
   "execution_count": 26,
   "id": "793d3a07",
   "metadata": {},
   "outputs": [
    {
     "data": {
      "text/plain": [
       "Text(0.5, 19.80000000000002, \"['Not a match', 'match']\")"
      ]
     },
     "execution_count": 26,
     "metadata": {},
     "output_type": "execute_result"
    },
    {
     "data": {
      "image/png": "[encoded data removed]",
      "text/plain": [
       "<Figure size 473.625x216 with 1 Axes>"
      ]
     },
     "metadata": {},
     "output_type": "display_data"
    }
   ],
   "source": [
    "df1 = df[df['samerace']==0].groupby('samerace')['match'].value_counts(normalize=True)\n",
    "df1 = df1.mul(100)\n",
    "df1 = df1.rename('percent').reset_index()\n",
    "       \n",
    "g = sns.catplot(x='samerace', y='percent', height = 3, aspect = 2, hue= 'match', kind='bar', data = df1)\n",
    "g.ax.set_ylim(0,100)\n",
    "for p in g.ax.patches:\n",
    "    txt = str(p.get_height().round(2)) + '%'\n",
    "    txt_x = p.get_x() \n",
    "    txt_y = p.get_height()\n",
    "    g.ax.text(txt_x,txt_y,txt)\n",
    "\n",
    "plt.title('percentage of successful matches when race is not the same')\n",
    "plt.xlabel(['Not a match', 'match'])"
   ]
  },
  {
   "cell_type": "code",
   "execution_count": 27,
   "id": "44f34997",
   "metadata": {},
   "outputs": [
    {
     "data": {
      "text/plain": [
       "Text(0.5, 19.80000000000002, \"['Not a match', 'match']\")"
      ]
     },
     "execution_count": 27,
     "metadata": {},
     "output_type": "execute_result"
    },
    {
     "data": {
      "image/png": "[encoded data removed]",
      "text/plain": [
       "<Figure size 473.625x216 with 1 Axes>"
      ]
     },
     "metadata": {},
     "output_type": "display_data"
    }
   ],
   "source": [
    "df1 = df[df['samerace']==1].groupby('samerace')['match'].value_counts(normalize=True)\n",
    "df1 = df1.mul(100)\n",
    "df1 = df1.rename('percent').reset_index()\n",
    "       \n",
    "g = sns.catplot(x='samerace', y='percent', height = 3, aspect = 2, hue='match',kind='bar', data = df1)\n",
    "g.ax.set_ylim(0,100)\n",
    "for p in g.ax.patches:\n",
    "    txt = str(p.get_height().round(2)) + '%'\n",
    "    txt_x = p.get_x() \n",
    "    txt_y = p.get_height()\n",
    "    g.ax.text(txt_x,txt_y,txt)\n",
    "\n",
    "plt.title('percentage of successful matches when race is the same')\n",
    "plt.xlabel(['Not a match', 'match'])"
   ]
  },
  {
   "cell_type": "markdown",
   "id": "d09bbabc",
   "metadata": {},
   "source": [
    "If the participants on the date are the same race, the chances of having a sucessful match are slighter lower than if they weren't, but the difference isn't much higher; it is only 1%."
   ]
  },
  {
   "cell_type": "markdown",
   "id": "c479af7e",
   "metadata": {},
   "source": [
    "What about age difference? Is there a correlation between the age difference and the likeihood of having a successful match? We can answer this question by creating a bar graph with the x-axis as the age difference among dates and the y-axis showing the frequency of un-successful vs successful dates. "
   ]
  },
  {
   "cell_type": "code",
   "execution_count": 28,
   "id": "baf6f58a",
   "metadata": {},
   "outputs": [
    {
     "data": {
      "text/plain": [
       "Text(0, 0.5, 'count of matches vs non-matches')"
      ]
     },
     "execution_count": 28,
     "metadata": {},
     "output_type": "execute_result"
    },
    {
     "data": {
      "image/png": "[encoded data removed]",
      "text/plain": [
       "<Figure size 936x288 with 1 Axes>"
      ]
     },
     "metadata": {},
     "output_type": "display_data"
    }
   ],
   "source": [
    "plt.figure(figsize = (13,4))\n",
    "plt.grid()\n",
    "sns.countplot(x='d_age', hue = 'match', data = df, order=np.unique(df['d_age'].dropna()))\n",
    "plt.grid()\n",
    "plt.title('age difference of dates')\n",
    "plt.legend(['Not a match', 'match'], loc = 'upper right')\n",
    "plt.xlabel('age difference in the date')\n",
    "plt.ylabel('count of matches vs non-matches')"
   ]
  },
  {
   "cell_type": "markdown",
   "id": "2847d952",
   "metadata": {},
   "source": [
    "We need to determine the ratio between the frequency of dates not being a match vs. dates being a match per age difference category. Can we graph this by percentage distribution then? Let's only look at the age differences of 10 or less, as those categories have decent sample sizes."
   ]
  },
  {
   "cell_type": "code",
   "execution_count": 52,
   "id": "2f435594",
   "metadata": {},
   "outputs": [
    {
     "data": {
      "text/plain": [
       "(0.0, 120.0)"
      ]
     },
     "execution_count": 52,
     "metadata": {},
     "output_type": "execute_result"
    },
    {
     "data": {
      "image/png": "[encoded data removed]",
      "text/plain": [
       "<Figure size 621.725x288 with 1 Axes>"
      ]
     },
     "metadata": {},
     "output_type": "display_data"
    }
   ],
   "source": [
    "sns.set(color_codes=True)\n",
    "(df[df['d_age']<=10].groupby('d_age')['match'].value_counts(normalize=True).mul(100).rename('percent').reset_index().pipe((sns.catplot,'data'), x= 'd_age', y='percent', height = 4, aspect = 2, hue='match',kind='bar', legend = 'auto'))\n",
    "plt.title('age difference of dates perentage distribution')\n",
    "plt.xlabel('difference in age')\n",
    "plt.legend(['Match','Not a match'], loc = 'upper right')\n",
    "plt.ylim(0,120)"
   ]
  },
  {
   "cell_type": "markdown",
   "id": "828d9fdf",
   "metadata": {},
   "source": [
    "We see here that as the age difference between a male and a female increases, the chances of having a successful match actually decreases. Can we look at this further and analyze the age difference again, but this time when the female is older than the male and then vice versa? To do this, let's create another column that dictates if the female is older than the male in the date or not."
   ]
  },
  {
   "cell_type": "code",
   "execution_count": 53,
   "id": "82209fc6",
   "metadata": {},
   "outputs": [
    {
     "data": {
      "text/html": [
       "<div>\n",
       "<style scoped>\n",
       "    .dataframe tbody tr th:only-of-type {\n",
       "        vertical-align: middle;\n",
       "    }\n",
       "\n",
       "    .dataframe tbody tr th {\n",
       "        vertical-align: top;\n",
       "    }\n",
       "\n",
       "    .dataframe thead th {\n",
       "        text-align: right;\n",
       "    }\n",
       "</style>\n",
       "<table border=\"1\" class=\"dataframe\">\n",
       "  <thead>\n",
       "    <tr style=\"text-align: right;\">\n",
       "      <th></th>\n",
       "      <th>has_null</th>\n",
       "      <th>wave</th>\n",
       "      <th>gender</th>\n",
       "      <th>age</th>\n",
       "      <th>age_o</th>\n",
       "      <th>d_age</th>\n",
       "      <th>d_d_age</th>\n",
       "      <th>race</th>\n",
       "      <th>race_o</th>\n",
       "      <th>samerace</th>\n",
       "      <th>...</th>\n",
       "      <th>d_expected_num_interested_in_me</th>\n",
       "      <th>d_expected_num_matches</th>\n",
       "      <th>like</th>\n",
       "      <th>guess_prob_liked</th>\n",
       "      <th>d_like</th>\n",
       "      <th>d_guess_prob_liked</th>\n",
       "      <th>met</th>\n",
       "      <th>decision</th>\n",
       "      <th>decision_o</th>\n",
       "      <th>match</th>\n",
       "    </tr>\n",
       "  </thead>\n",
       "  <tbody>\n",
       "    <tr>\n",
       "      <th>0</th>\n",
       "      <td>0</td>\n",
       "      <td>1</td>\n",
       "      <td>female</td>\n",
       "      <td>21.0</td>\n",
       "      <td>27.0</td>\n",
       "      <td>6</td>\n",
       "      <td>[4-6]</td>\n",
       "      <td>asian/pacific islander/asian-american</td>\n",
       "      <td>european/caucasian-american</td>\n",
       "      <td>0</td>\n",
       "      <td>...</td>\n",
       "      <td>[0-3]</td>\n",
       "      <td>[3-5]</td>\n",
       "      <td>7.0</td>\n",
       "      <td>6.0</td>\n",
       "      <td>[6-8]</td>\n",
       "      <td>[5-6]</td>\n",
       "      <td>0.0</td>\n",
       "      <td>1</td>\n",
       "      <td>0</td>\n",
       "      <td>0</td>\n",
       "    </tr>\n",
       "    <tr>\n",
       "      <th>1</th>\n",
       "      <td>0</td>\n",
       "      <td>1</td>\n",
       "      <td>female</td>\n",
       "      <td>21.0</td>\n",
       "      <td>22.0</td>\n",
       "      <td>1</td>\n",
       "      <td>[0-1]</td>\n",
       "      <td>asian/pacific islander/asian-american</td>\n",
       "      <td>european/caucasian-american</td>\n",
       "      <td>0</td>\n",
       "      <td>...</td>\n",
       "      <td>[0-3]</td>\n",
       "      <td>[3-5]</td>\n",
       "      <td>7.0</td>\n",
       "      <td>5.0</td>\n",
       "      <td>[6-8]</td>\n",
       "      <td>[5-6]</td>\n",
       "      <td>1.0</td>\n",
       "      <td>1</td>\n",
       "      <td>0</td>\n",
       "      <td>0</td>\n",
       "    </tr>\n",
       "    <tr>\n",
       "      <th>2</th>\n",
       "      <td>1</td>\n",
       "      <td>1</td>\n",
       "      <td>female</td>\n",
       "      <td>21.0</td>\n",
       "      <td>22.0</td>\n",
       "      <td>1</td>\n",
       "      <td>[0-1]</td>\n",
       "      <td>asian/pacific islander/asian-american</td>\n",
       "      <td>asian/pacific islander/asian-american</td>\n",
       "      <td>1</td>\n",
       "      <td>...</td>\n",
       "      <td>[0-3]</td>\n",
       "      <td>[3-5]</td>\n",
       "      <td>7.0</td>\n",
       "      <td>NaN</td>\n",
       "      <td>[6-8]</td>\n",
       "      <td>[0-4]</td>\n",
       "      <td>1.0</td>\n",
       "      <td>1</td>\n",
       "      <td>1</td>\n",
       "      <td>1</td>\n",
       "    </tr>\n",
       "    <tr>\n",
       "      <th>3</th>\n",
       "      <td>0</td>\n",
       "      <td>1</td>\n",
       "      <td>female</td>\n",
       "      <td>21.0</td>\n",
       "      <td>23.0</td>\n",
       "      <td>2</td>\n",
       "      <td>[2-3]</td>\n",
       "      <td>asian/pacific islander/asian-american</td>\n",
       "      <td>european/caucasian-american</td>\n",
       "      <td>0</td>\n",
       "      <td>...</td>\n",
       "      <td>[0-3]</td>\n",
       "      <td>[3-5]</td>\n",
       "      <td>7.0</td>\n",
       "      <td>6.0</td>\n",
       "      <td>[6-8]</td>\n",
       "      <td>[5-6]</td>\n",
       "      <td>0.0</td>\n",
       "      <td>1</td>\n",
       "      <td>1</td>\n",
       "      <td>1</td>\n",
       "    </tr>\n",
       "    <tr>\n",
       "      <th>4</th>\n",
       "      <td>0</td>\n",
       "      <td>1</td>\n",
       "      <td>female</td>\n",
       "      <td>21.0</td>\n",
       "      <td>24.0</td>\n",
       "      <td>3</td>\n",
       "      <td>[2-3]</td>\n",
       "      <td>asian/pacific islander/asian-american</td>\n",
       "      <td>latino/hispanic american</td>\n",
       "      <td>0</td>\n",
       "      <td>...</td>\n",
       "      <td>[0-3]</td>\n",
       "      <td>[3-5]</td>\n",
       "      <td>6.0</td>\n",
       "      <td>6.0</td>\n",
       "      <td>[6-8]</td>\n",
       "      <td>[5-6]</td>\n",
       "      <td>0.0</td>\n",
       "      <td>1</td>\n",
       "      <td>1</td>\n",
       "      <td>1</td>\n",
       "    </tr>\n",
       "  </tbody>\n",
       "</table>\n",
       "<p>5 rows × 123 columns</p>\n",
       "</div>"
      ],
      "text/plain": [
       "   has_null  wave  gender   age  age_o  d_age d_d_age  \\\n",
       "0         0     1  female  21.0   27.0      6   [4-6]   \n",
       "1         0     1  female  21.0   22.0      1   [0-1]   \n",
       "2         1     1  female  21.0   22.0      1   [0-1]   \n",
       "3         0     1  female  21.0   23.0      2   [2-3]   \n",
       "4         0     1  female  21.0   24.0      3   [2-3]   \n",
       "\n",
       "                                    race  \\\n",
       "0  asian/pacific islander/asian-american   \n",
       "1  asian/pacific islander/asian-american   \n",
       "2  asian/pacific islander/asian-american   \n",
       "3  asian/pacific islander/asian-american   \n",
       "4  asian/pacific islander/asian-american   \n",
       "\n",
       "                                  race_o  samerace  ...  \\\n",
       "0            european/caucasian-american         0  ...   \n",
       "1            european/caucasian-american         0  ...   \n",
       "2  asian/pacific islander/asian-american         1  ...   \n",
       "3            european/caucasian-american         0  ...   \n",
       "4               latino/hispanic american         0  ...   \n",
       "\n",
       "   d_expected_num_interested_in_me  d_expected_num_matches like  \\\n",
       "0                            [0-3]                   [3-5]  7.0   \n",
       "1                            [0-3]                   [3-5]  7.0   \n",
       "2                            [0-3]                   [3-5]  7.0   \n",
       "3                            [0-3]                   [3-5]  7.0   \n",
       "4                            [0-3]                   [3-5]  6.0   \n",
       "\n",
       "  guess_prob_liked d_like  d_guess_prob_liked  met  decision  decision_o  \\\n",
       "0              6.0  [6-8]               [5-6]  0.0         1           0   \n",
       "1              5.0  [6-8]               [5-6]  1.0         1           0   \n",
       "2              NaN  [6-8]               [0-4]  1.0         1           1   \n",
       "3              6.0  [6-8]               [5-6]  0.0         1           1   \n",
       "4              6.0  [6-8]               [5-6]  0.0         1           1   \n",
       "\n",
       "   match  \n",
       "0      0  \n",
       "1      0  \n",
       "2      1  \n",
       "3      1  \n",
       "4      1  \n",
       "\n",
       "[5 rows x 123 columns]"
      ]
     },
     "execution_count": 53,
     "metadata": {},
     "output_type": "execute_result"
    }
   ],
   "source": [
    "df.head()"
   ]
  },
  {
   "cell_type": "code",
   "execution_count": 55,
   "id": "212ea559",
   "metadata": {},
   "outputs": [
    {
     "name": "stderr",
     "output_type": "stream",
     "text": [
      "C:\\Users\\jason\\anaconda3\\lib\\site-packages\\pandas\\core\\indexing.py:1732: SettingWithCopyWarning: \n",
      "A value is trying to be set on a copy of a slice from a DataFrame\n",
      "\n",
      "See the caveats in the documentation: https://pandas.pydata.org/pandas-docs/stable/user_guide/indexing.html#returning-a-view-versus-a-copy\n",
      "  self._setitem_single_block(indexer, value, name)\n"
     ]
    },
    {
     "data": {
      "text/html": [
       "<div>\n",
       "<style scoped>\n",
       "    .dataframe tbody tr th:only-of-type {\n",
       "        vertical-align: middle;\n",
       "    }\n",
       "\n",
       "    .dataframe tbody tr th {\n",
       "        vertical-align: top;\n",
       "    }\n",
       "\n",
       "    .dataframe thead th {\n",
       "        text-align: right;\n",
       "    }\n",
       "</style>\n",
       "<table border=\"1\" class=\"dataframe\">\n",
       "  <thead>\n",
       "    <tr style=\"text-align: right;\">\n",
       "      <th></th>\n",
       "      <th>has_null</th>\n",
       "      <th>wave</th>\n",
       "      <th>gender</th>\n",
       "      <th>age</th>\n",
       "      <th>age_o</th>\n",
       "      <th>d_age</th>\n",
       "      <th>d_d_age</th>\n",
       "      <th>race</th>\n",
       "      <th>race_o</th>\n",
       "      <th>samerace</th>\n",
       "      <th>...</th>\n",
       "      <th>d_expected_num_matches</th>\n",
       "      <th>like</th>\n",
       "      <th>guess_prob_liked</th>\n",
       "      <th>d_like</th>\n",
       "      <th>d_guess_prob_liked</th>\n",
       "      <th>met</th>\n",
       "      <th>decision</th>\n",
       "      <th>decision_o</th>\n",
       "      <th>match</th>\n",
       "      <th>female older?</th>\n",
       "    </tr>\n",
       "  </thead>\n",
       "  <tbody>\n",
       "    <tr>\n",
       "      <th>0</th>\n",
       "      <td>0</td>\n",
       "      <td>1</td>\n",
       "      <td>female</td>\n",
       "      <td>21.0</td>\n",
       "      <td>27.0</td>\n",
       "      <td>6</td>\n",
       "      <td>[4-6]</td>\n",
       "      <td>asian/pacific islander/asian-american</td>\n",
       "      <td>european/caucasian-american</td>\n",
       "      <td>0</td>\n",
       "      <td>...</td>\n",
       "      <td>[3-5]</td>\n",
       "      <td>7.0</td>\n",
       "      <td>6.0</td>\n",
       "      <td>[6-8]</td>\n",
       "      <td>[5-6]</td>\n",
       "      <td>0.0</td>\n",
       "      <td>1</td>\n",
       "      <td>0</td>\n",
       "      <td>0</td>\n",
       "      <td>no</td>\n",
       "    </tr>\n",
       "    <tr>\n",
       "      <th>1</th>\n",
       "      <td>0</td>\n",
       "      <td>1</td>\n",
       "      <td>female</td>\n",
       "      <td>21.0</td>\n",
       "      <td>22.0</td>\n",
       "      <td>1</td>\n",
       "      <td>[0-1]</td>\n",
       "      <td>asian/pacific islander/asian-american</td>\n",
       "      <td>european/caucasian-american</td>\n",
       "      <td>0</td>\n",
       "      <td>...</td>\n",
       "      <td>[3-5]</td>\n",
       "      <td>7.0</td>\n",
       "      <td>5.0</td>\n",
       "      <td>[6-8]</td>\n",
       "      <td>[5-6]</td>\n",
       "      <td>1.0</td>\n",
       "      <td>1</td>\n",
       "      <td>0</td>\n",
       "      <td>0</td>\n",
       "      <td>no</td>\n",
       "    </tr>\n",
       "    <tr>\n",
       "      <th>2</th>\n",
       "      <td>1</td>\n",
       "      <td>1</td>\n",
       "      <td>female</td>\n",
       "      <td>21.0</td>\n",
       "      <td>22.0</td>\n",
       "      <td>1</td>\n",
       "      <td>[0-1]</td>\n",
       "      <td>asian/pacific islander/asian-american</td>\n",
       "      <td>asian/pacific islander/asian-american</td>\n",
       "      <td>1</td>\n",
       "      <td>...</td>\n",
       "      <td>[3-5]</td>\n",
       "      <td>7.0</td>\n",
       "      <td>NaN</td>\n",
       "      <td>[6-8]</td>\n",
       "      <td>[0-4]</td>\n",
       "      <td>1.0</td>\n",
       "      <td>1</td>\n",
       "      <td>1</td>\n",
       "      <td>1</td>\n",
       "      <td>no</td>\n",
       "    </tr>\n",
       "    <tr>\n",
       "      <th>3</th>\n",
       "      <td>0</td>\n",
       "      <td>1</td>\n",
       "      <td>female</td>\n",
       "      <td>21.0</td>\n",
       "      <td>23.0</td>\n",
       "      <td>2</td>\n",
       "      <td>[2-3]</td>\n",
       "      <td>asian/pacific islander/asian-american</td>\n",
       "      <td>european/caucasian-american</td>\n",
       "      <td>0</td>\n",
       "      <td>...</td>\n",
       "      <td>[3-5]</td>\n",
       "      <td>7.0</td>\n",
       "      <td>6.0</td>\n",
       "      <td>[6-8]</td>\n",
       "      <td>[5-6]</td>\n",
       "      <td>0.0</td>\n",
       "      <td>1</td>\n",
       "      <td>1</td>\n",
       "      <td>1</td>\n",
       "      <td>no</td>\n",
       "    </tr>\n",
       "    <tr>\n",
       "      <th>4</th>\n",
       "      <td>0</td>\n",
       "      <td>1</td>\n",
       "      <td>female</td>\n",
       "      <td>21.0</td>\n",
       "      <td>24.0</td>\n",
       "      <td>3</td>\n",
       "      <td>[2-3]</td>\n",
       "      <td>asian/pacific islander/asian-american</td>\n",
       "      <td>latino/hispanic american</td>\n",
       "      <td>0</td>\n",
       "      <td>...</td>\n",
       "      <td>[3-5]</td>\n",
       "      <td>6.0</td>\n",
       "      <td>6.0</td>\n",
       "      <td>[6-8]</td>\n",
       "      <td>[5-6]</td>\n",
       "      <td>0.0</td>\n",
       "      <td>1</td>\n",
       "      <td>1</td>\n",
       "      <td>1</td>\n",
       "      <td>no</td>\n",
       "    </tr>\n",
       "  </tbody>\n",
       "</table>\n",
       "<p>5 rows × 124 columns</p>\n",
       "</div>"
      ],
      "text/plain": [
       "   has_null  wave  gender   age  age_o  d_age d_d_age  \\\n",
       "0         0     1  female  21.0   27.0      6   [4-6]   \n",
       "1         0     1  female  21.0   22.0      1   [0-1]   \n",
       "2         1     1  female  21.0   22.0      1   [0-1]   \n",
       "3         0     1  female  21.0   23.0      2   [2-3]   \n",
       "4         0     1  female  21.0   24.0      3   [2-3]   \n",
       "\n",
       "                                    race  \\\n",
       "0  asian/pacific islander/asian-american   \n",
       "1  asian/pacific islander/asian-american   \n",
       "2  asian/pacific islander/asian-american   \n",
       "3  asian/pacific islander/asian-american   \n",
       "4  asian/pacific islander/asian-american   \n",
       "\n",
       "                                  race_o  samerace  ...  \\\n",
       "0            european/caucasian-american         0  ...   \n",
       "1            european/caucasian-american         0  ...   \n",
       "2  asian/pacific islander/asian-american         1  ...   \n",
       "3            european/caucasian-american         0  ...   \n",
       "4               latino/hispanic american         0  ...   \n",
       "\n",
       "   d_expected_num_matches  like guess_prob_liked d_like d_guess_prob_liked  \\\n",
       "0                   [3-5]   7.0              6.0  [6-8]              [5-6]   \n",
       "1                   [3-5]   7.0              5.0  [6-8]              [5-6]   \n",
       "2                   [3-5]   7.0              NaN  [6-8]              [0-4]   \n",
       "3                   [3-5]   7.0              6.0  [6-8]              [5-6]   \n",
       "4                   [3-5]   6.0              6.0  [6-8]              [5-6]   \n",
       "\n",
       "   met  decision  decision_o  match  female older?  \n",
       "0  0.0         1           0      0             no  \n",
       "1  1.0         1           0      0             no  \n",
       "2  1.0         1           1      1             no  \n",
       "3  0.0         1           1      1             no  \n",
       "4  0.0         1           1      1             no  \n",
       "\n",
       "[5 rows x 124 columns]"
      ]
     },
     "execution_count": 55,
     "metadata": {},
     "output_type": "execute_result"
    }
   ],
   "source": [
    "df['female older?'] = df['d_age']\n",
    "for i in np.linspace(0 , len(df['d_age'])-1 , len(df['d_age'])):\n",
    "    i = i.astype(int)\n",
    "    if (df['age_o'].iloc[i] > df['age'].iloc[i]) & (df['gender'].iloc[i] == 'female') or (df['age_o'].iloc[i] < df['age'].iloc[i]) & (df['gender'].iloc[i] == 'male'):\n",
    "        df['female older?'].iloc[i] = 'no'\n",
    "    elif (df['age_o'].iloc[i] < df['age'].iloc[i]) & (df['gender'].iloc[i] == 'female') or (df['age_o'].iloc[i] > df['age'].iloc[i]) & (df['gender'].iloc[i] == 'male'):\n",
    "        df['female older?'].iloc[i] = 'yes'\n",
    "    else:\n",
    "        df['female older?'].iloc[i] = 'tie'\n",
    "df.head()"
   ]
  },
  {
   "cell_type": "code",
   "execution_count": 56,
   "id": "ceb9a070",
   "metadata": {},
   "outputs": [
    {
     "data": {
      "text/plain": [
       "Text(0, 0.5, 'count of matches vs non-matches')"
      ]
     },
     "execution_count": 56,
     "metadata": {},
     "output_type": "execute_result"
    },
    {
     "data": {
      "image/png": "[encoded data removed]",
      "text/plain": [
       "<Figure size 1080x288 with 1 Axes>"
      ]
     },
     "metadata": {},
     "output_type": "display_data"
    }
   ],
   "source": [
    "plt.figure(figsize = (15,4))\n",
    "plt.grid()\n",
    "sns.countplot(x=df[df['female older?']=='yes']['d_age'], hue = 'match', data = df, order=np.unique(df['d_age'].dropna()))\n",
    "plt.grid()\n",
    "plt.title('number of dates where female is older by age difference')\n",
    "plt.legend(['Not a match', 'match'], loc = 'upper right')\n",
    "plt.xlabel('age difference among date')\n",
    "plt.ylabel('count of matches vs non-matches')"
   ]
  },
  {
   "cell_type": "code",
   "execution_count": 57,
   "id": "94efe8f0",
   "metadata": {},
   "outputs": [
    {
     "data": {
      "text/plain": [
       "Text(0, 0.5, 'count of matches vs non-matches')"
      ]
     },
     "execution_count": 57,
     "metadata": {},
     "output_type": "execute_result"
    },
    {
     "data": {
      "image/png": "[encoded data removed]",
      "text/plain": [
       "<Figure size 1080x288 with 1 Axes>"
      ]
     },
     "metadata": {},
     "output_type": "display_data"
    }
   ],
   "source": [
    "plt.figure(figsize = (15,4))\n",
    "plt.grid()\n",
    "sns.countplot(x=df[df['female older?']=='no']['d_age'], hue = 'match', data = df, order=np.unique(df['d_age'].dropna()))\n",
    "plt.grid()\n",
    "plt.title('number of dates where male is older by age difference')\n",
    "plt.legend(['Not a match', 'match'], loc = 'upper right')\n",
    "plt.xlabel('age difference among date')\n",
    "plt.ylabel('count of matches vs non-matches')"
   ]
  },
  {
   "cell_type": "code",
   "execution_count": 58,
   "id": "1fbf1931",
   "metadata": {},
   "outputs": [
    {
     "data": {
      "text/plain": [
       "Text(0.5, 22.960000000000008, 'age difference among date')"
      ]
     },
     "execution_count": 58,
     "metadata": {},
     "output_type": "execute_result"
    },
    {
     "data": {
      "image/png": "[encoded data removed]",
      "text/plain": [
       "<Figure size 549.725x252 with 1 Axes>"
      ]
     },
     "metadata": {},
     "output_type": "display_data"
    },
    {
     "data": {
      "image/png": "[encoded data removed]",
      "text/plain": [
       "<Figure size 549.725x252 with 1 Axes>"
      ]
     },
     "metadata": {},
     "output_type": "display_data"
    }
   ],
   "source": [
    "sns.set(color_codes=True)\n",
    "\n",
    "### sns.set(color_codes=True)\n",
    "(df[(df['female older?']=='yes') & (df['d_age']<=9)].groupby('d_age')['match'].value_counts(normalize=True).mul(100).rename('percent').reset_index().pipe((sns.catplot,'data'), x= 'd_age', y='percent', height = 3.5, aspect = 2, hue='match',kind='bar'))\n",
    "plt.title('age difference of dates where female is older percentage')\n",
    "plt.xlabel('age difference among date')\n",
    "\n",
    "(df[(df['female older?']=='no') & (df['d_age']<=9)].groupby('d_age')['match'].value_counts(normalize=True).mul(100).rename('percent').reset_index().pipe((sns.catplot,'data'), x= 'd_age', y='percent', height = 3.5, aspect = 2, hue='match',kind='bar'))\n",
    "plt.title('age difference of dates where male is older percentage')\n",
    "plt.xlabel('age difference among date')"
   ]
  },
  {
   "cell_type": "markdown",
   "id": "a08eed50",
   "metadata": {},
   "source": [
    "What do we see from here? We see that in both scenarios, when the age difference increases, the chances of having a successful date decreases. For dates when the female is older, the trend starts as soon as the age difference surpasses 1. For dates when the male is older, the trend is imminenent when the age difference is at 7. "
   ]
  },
  {
   "cell_type": "markdown",
   "id": "4512994a",
   "metadata": {},
   "source": [
    "What about in dates when there is no age difference between the male and the female?"
   ]
  },
  {
   "cell_type": "code",
   "execution_count": 59,
   "id": "4355e72e",
   "metadata": {},
   "outputs": [
    {
     "data": {
      "text/plain": [
       "Text(0.5, 22.960000000000008, \"['Not a match', 'match']\")"
      ]
     },
     "execution_count": 59,
     "metadata": {},
     "output_type": "execute_result"
    },
    {
     "data": {
      "image/png": "[encoded data removed]",
      "text/plain": [
       "<Figure size 477.725x216 with 1 Axes>"
      ]
     },
     "metadata": {},
     "output_type": "display_data"
    }
   ],
   "source": [
    "#sns.set(color_codes=True)\n",
    "df1 = df[(df['female older?']=='tie') & (df['d_age']<=9)].groupby('d_age')['match'].value_counts(normalize=True)\n",
    "df1 = df1.mul(100)\n",
    "df1 = df1.rename('percent').reset_index()\n",
    "\n",
    "g = sns.catplot(x='d_age', y='percent', height = 3, aspect = 2, hue='match',kind='bar', data = df1)\n",
    "g.ax.set_ylim(0,100)\n",
    "for p in g.ax.patches:\n",
    "    txt = str(p.get_height().round(2)) + '%'\n",
    "    txt_x = p.get_x() \n",
    "    txt_y = p.get_height()\n",
    "    g.ax.text(txt_x,txt_y,txt)\n",
    "\n",
    "plt.title('percentage of successful matches when age is the same')\n",
    "plt.xlabel(['Not a match', 'match'])"
   ]
  },
  {
   "cell_type": "markdown",
   "id": "0201815d",
   "metadata": {},
   "source": [
    "With a chance of not having a successful date being around 80%, this number is not too different from what we've seen with the other age differences. "
   ]
  },
  {
   "cell_type": "markdown",
   "id": "9510fb77",
   "metadata": {},
   "source": [
    "We've tried attributes such as age and race, to see if dates having the same type of attribute results in the best chances of having a successful date, but the results have remained similar to each other. Can we build a model that instantly computes the chances of a successful date through analyzing every single attribute?\n",
    "\n",
    "In addition to attributes, each person also had to rate the importance of characteristics such as attractiveness, sincereness, etc. Could we use this information to predict if a date will turn out well or not? Let's use supervised Machine Learning!"
   ]
  },
  {
   "cell_type": "markdown",
   "id": "417c6cec",
   "metadata": {},
   "source": [
    "Before applying machine learning, obivously you can't just use all the columns in the dataframe and run it through machine learning immediately; you need to figure out which columns are potentially useful."
   ]
  }
 ],
 "metadata": {
  "kernelspec": {
   "display_name": "Python 3 (ipykernel)",
   "language": "python",
   "name": "python3"
  },
  "language_info": {
   "codemirror_mode": {
    "name": "ipython",
    "version": 3
   },
   "file_extension": ".py",
   "mimetype": "text/x-python",
   "name": "python",
   "nbconvert_exporter": "python",
   "pygments_lexer": "ipython3",
   "version": "3.8.12"
  }
 },
 "nbformat": 4,
 "nbformat_minor": 5
}
